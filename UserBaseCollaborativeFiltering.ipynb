{
 "cells": [
  {
   "cell_type": "markdown",
   "metadata": {},
   "source": [
    "# 协同过滤算法(Collaborative Filtering)\n",
    "1. Memory-based Collaborative Filtering\n",
    "    - User Base\n",
    "    - Item Base\n",
    "\n",
    "> 余弦相似度计算\n",
    "\n",
    "2. Model-Based Collaborative Filtering\n",
    "    - ALS（交替最小二乘法）\n",
    "\n",
    "## 算法实现\n",
    "- 下面我们依次尝试实现基于用户、基于项的协同过滤算法。"
   ]
  },
  {
   "cell_type": "code",
   "execution_count": 1,
   "metadata": {},
   "outputs": [
    {
     "name": "stdout",
     "output_type": "stream",
     "text": [
      "('init complete\\xef\\xbc\\x9asc = ', <SparkContext master=local appName=CF>)\n"
     ]
    }
   ],
   "source": [
    "from pyspark import SparkContext, SparkConf # 导入相关工具包\n",
    "\n",
    "# 初始化Spark上下文\n",
    "# local为本地调试模式，具体集群方式参照http://spark.apache.org/docs/latest/cluster-overview.html\n",
    "conf = SparkConf().setAppName(\"CF\").setMaster(\"local\") \n",
    "sc = SparkContext(conf=conf)\n",
    "print (\"init complete：sc = \", sc)"
   ]
  },
  {
   "cell_type": "code",
   "execution_count": 2,
   "metadata": {},
   "outputs": [
    {
     "name": "stdout",
     "output_type": "stream",
     "text": [
      "[('user4', 'film9', 5), ('user4', 'film3', 2), ('user4', 'film2', 4), ('user4', 'film0', 3), ('user4', 'film5', 3), ('user4', 'film4', 5), ('user2', 'film8', 3), ('user2', 'film2', 3), ('user2', 'film1', 5), ('user2', 'film0', 4), ('user2', 'film6', 4), ('user2', 'film4', 2), ('user3', 'film9', 4), ('user3', 'film8', 2), ('user3', 'film3', 5), ('user3', 'film2', 3), ('user3', 'film0', 4), ('user3', 'film4', 4), ('user0', 'film9', 2), ('user0', 'film8', 2), ('user0', 'film3', 4), ('user0', 'film1', 1), ('user0', 'film0', 2), ('user0', 'film7', 5), ('user1', 'film9', 4), ('user1', 'film3', 5), ('user1', 'film1', 3), ('user1', 'film7', 2), ('user1', 'film6', 3), ('user1', 'film4', 2)]\n"
     ]
    }
   ],
   "source": [
    "# 随机初始化测试数据\n",
    "# import random\n",
    "# data = {\"user%d\"%i:[(\"film%d\"%j ,random.randint(1,5)) for j in random.sample(range(10),6)] for i in range(5)} # 数据生成算法\n",
    "rawData = {'user4': {'film9': 5, 'film3': 2, 'film2': 4, 'film0': 3, 'film5': 3, 'film4': 5},\n",
    "           'user2': {'film8': 3, 'film2': 3, 'film1': 5, 'film0': 4, 'film6': 4, 'film4': 2},\n",
    "           'user3': {'film9': 4, 'film8': 2, 'film3': 5, 'film2': 3, 'film0': 4, 'film4': 4},\n",
    "           'user0': {'film9': 2, 'film8': 2, 'film3': 4, 'film1': 1, 'film0': 2, 'film7': 5},\n",
    "           'user1': {'film9': 4, 'film3': 5, 'film1': 3, 'film7': 2, 'film6': 3, 'film4': 2}}\n",
    "# 模拟实际数据，生成(user,film,rate)数组列表项\n",
    "data = [(user, film, rate) for (user, filmRatings) in rawData.items() for (film, rate) in filmRatings.items()]\n",
    "data = sc.parallelize(data)\n",
    "print data.collect()"
   ]
  },
  {
   "cell_type": "markdown",
   "metadata": {},
   "source": [
    "## 计算不同用户的余弦相似度\n",
    "具体地，我们切分为以下步骤："
   ]
  },
  {
   "cell_type": "code",
   "execution_count": 3,
   "metadata": {},
   "outputs": [
    {
     "name": "stdout",
     "output_type": "stream",
     "text": [
      "('itemPairs == expectedData should be True,Result: ', True)\n"
     ]
    }
   ],
   "source": [
    "def getItemPairs(rddData):\n",
    "    \"\"\"\n",
    "        Step1:处理数据，获得稀疏item-user矩阵:\n",
    "        item_id -> ((user_1,rating),(user2,rating))\n",
    "    \"\"\"\n",
    "    #TODO Write your code here\n",
    "    return rddData.map(lambda t: (t[1], (t[0], t[2]))).groupByKey()\n",
    "    pass\n",
    "\n",
    "itemPairs = getItemPairs(data)\n",
    "expectedData = [('film9', [('user4', 5), ('user3', 4), ('user0', 2), ('user1', 4)]),\n",
    "                ('film8', [('user2', 3), ('user3', 2), ('user0', 2)]),\n",
    "                ('film3', [('user4', 2), ('user3', 5), ('user0', 4), ('user1', 5)]),\n",
    "                ('film2', [('user4', 4), ('user2', 3), ('user3', 3)]),\n",
    "                ('film1', [('user2', 5), ('user0', 1), ('user1', 3)]),\n",
    "                ('film0', [('user4', 3), ('user2', 4), ('user3', 4), ('user0', 2)]),\n",
    "                ('film7', [('user0', 5), ('user1', 2)]), ('film6', [('user2', 4), ('user1', 3)]),\n",
    "                ('film5', [('user4', 3)]), ('film4', [('user4', 5), ('user2', 2), ('user3', 4), ('user1', 2)])]\n",
    "print(\"itemPairs == expectedData should be True,Result: \", itemPairs.mapValues(list).collect() == expectedData)\n"
   ]
  },
  {
   "cell_type": "code",
   "execution_count": 4,
   "metadata": {},
   "outputs": [
    {
     "name": "stdout",
     "output_type": "stream",
     "text": [
      "('pairUsers == expectedData should be True,Result: ', True)\n"
     ]
    }
   ],
   "source": [
    "def getPairUsers(itemPairs):\n",
    "    \"\"\"\n",
    "        Step2: 获得2个用户所有的item-item对得分组合:\n",
    "        (user1_id,user2_id) -> [(rating1,rating2),\n",
    "                                (rating1,rating2),\n",
    "                                (rating1,rating2),\n",
    "                                ...]\n",
    "    \"\"\"\n",
    "    from itertools import combinations\n",
    "    \"\"\"\n",
    "        对每个item，找到共同打分的user对，即找出所有两两组合\n",
    "        tips：使用itertools的combinations 找两两组合\n",
    "    \"\"\"\n",
    "    return itemPairs.flatMap(\n",
    "        lambda (_, userRatings): [\n",
    "            ((user1[0], user2[0]), (user1[1], user2[1])) for user1, user2 in\n",
    "            combinations(userRatings, 2)\n",
    "        ]\n",
    "    ).groupByKey()\n",
    "\n",
    "\n",
    "pairUsers = getPairUsers(itemPairs)\n",
    "expectedData = [(('user4', 'user1'), [(5, 4), (2, 5), (5, 2)]), (('user2', 'user1'), [(5, 3), (4, 3), (2, 2)]),\n",
    "                (('user4', 'user0'), [(5, 2), (2, 4), (3, 2)]), (('user0', 'user1'), [(2, 4), (4, 5), (1, 3), (5, 2)]),\n",
    "                (('user2', 'user0'), [(3, 2), (5, 1), (4, 2)]), (('user3', 'user0'), [(4, 2), (2, 2), (5, 4), (4, 2)]),\n",
    "                (('user3', 'user1'), [(4, 4), (5, 5), (4, 2)]), (('user2', 'user3'), [(3, 2), (3, 3), (4, 4), (2, 4)]),\n",
    "                (('user4', 'user3'), [(5, 4), (2, 5), (4, 3), (3, 4), (5, 4)]),\n",
    "                (('user4', 'user2'), [(4, 3), (3, 4), (5, 2)])]\n",
    "\n",
    "print(\"pairUsers == expectedData should be True,Result: \", pairUsers.mapValues(list).collect() == expectedData)\n"
   ]
  },
  {
   "cell_type": "code",
   "execution_count": 5,
   "metadata": {},
   "outputs": [
    {
     "name": "stdout",
     "output_type": "stream",
     "text": [
      "('userCosSim == expectedData should be True,Result: ', True)\n"
     ]
    }
   ],
   "source": [
    "# TODO 在下面计算不同用户的余弦相似度\n",
    "def calCosSim(pairUsers):\n",
    "    \"\"\"\n",
    "        Step3:计算余弦相似度:\n",
    "        (user1,user2) ->    (similarity)\n",
    "    \"\"\"\n",
    "    import numpy as np\n",
    "    def calCosSimPerUser(pairUser):\n",
    "        \"\"\"\n",
    "            对每个user对，根据打分计算余弦距离\n",
    "        \"\"\"\n",
    "        pairUser, pairRatings = pairUser\n",
    "        sum_xx, sum_xy, sum_yy = 0.0, 0.0, 0.0\n",
    "        for pairRating in pairRatings:\n",
    "            sum_xx += np.float(pairRating[0]) * np.float(pairRating[0])\n",
    "            sum_yy += np.float(pairRating[1]) * np.float(pairRating[1])\n",
    "            sum_xy += np.float(pairRating[0]) * np.float(pairRating[1])\n",
    "        denominator = np.sqrt(sum_xx) * np.sqrt(sum_yy)\n",
    "        cosSim = sum_xy / (float(denominator)) if denominator else 0.0\n",
    "        return pairUser, cosSim\n",
    "\n",
    "    return pairUsers.map(calCosSimPerUser)\n",
    "\n",
    "\n",
    "userCosSim = calCosSim(pairUsers)\n",
    "expectedData = [(('user4', 'user1'), 0.8114408259335794), (('user2', 'user1'), 0.9852446755537787),\n",
    "                (('user4', 'user0'), 0.7947194142390264), (('user0', 'user1'), 0.8226366627527562),\n",
    "                (('user2', 'user0'), 0.8956685895029601), (('user3', 'user0'), 0.9678678369916546),\n",
    "                (('user3', 'user1'), 0.9675031670065175), (('user2', 'user3'), 0.9431191251430152),\n",
    "                (('user4', 'user3'), 0.9194142866202886), (('user4', 'user2'), 0.8928837434461133)]\n",
    "\n",
    "print(\"userCosSim == expectedData should be True,Result: \", userCosSim.collect() == expectedData)\n"
   ]
  },
  {
   "cell_type": "code",
   "execution_count": 6,
   "metadata": {},
   "outputs": [
    {
     "name": "stdout",
     "output_type": "stream",
     "text": [
      "('userSimDict == expectedData should be True,Result: ', True)\n"
     ]
    }
   ],
   "source": [
    "# TODO 格式化数据，返回user_id1 -> [(user_id2,sim),(user_id3,sim)……]，其中数组部分按相似度sim进行排序\n",
    "def getUserSimPairs(userCosSim):\n",
    "    dataDict = userCosSim.flatMap(\n",
    "        lambda (users, sim): ((users[0], (users[1], sim)), (users[1], (users[0], sim)))).groupByKey().map(\n",
    "        lambda (user, userSims): (user, sorted(userSims, key=lambda t: t[1], reverse=True))).mapValues(\n",
    "        list).collect()\n",
    "    return {user1: userSims for (user1, userSims) in dataDict}\n",
    "\n",
    "\n",
    "userSimDict = getUserSimPairs(userCosSim)\n",
    "\n",
    "expectedData = {'user4': [('user3', 0.9194142866202886), ('user2', 0.8928837434461133), ('user1', 0.8114408259335794),\n",
    "                          ('user0', 0.7947194142390264)],\n",
    "                'user2': [('user1', 0.9852446755537787), ('user3', 0.9431191251430152), ('user0', 0.8956685895029601),\n",
    "                          ('user4', 0.8928837434461133)],\n",
    "                'user3': [('user0', 0.9678678369916546), ('user1', 0.9675031670065175), ('user2', 0.9431191251430152),\n",
    "                          ('user4', 0.9194142866202886)],\n",
    "                'user0': [('user3', 0.9678678369916546), ('user2', 0.8956685895029601), ('user1', 0.8226366627527562),\n",
    "                          ('user4', 0.7947194142390264)],\n",
    "                'user1': [('user2', 0.9852446755537787), ('user3', 0.9675031670065175), ('user0', 0.8226366627527562),\n",
    "                          ('user4', 0.8114408259335794)]}\n",
    "\n",
    "print(\"userSimDict == expectedData should be True,Result: \", userSimDict == expectedData)"
   ]
  },
  {
   "cell_type": "code",
   "execution_count": 7,
   "metadata": {},
   "outputs": [
    {
     "name": "stdout",
     "output_type": "stream",
     "text": [
      "('recommededFilms == expectedData should be True,Result: ', True)\n"
     ]
    }
   ],
   "source": [
    "# TODO 实现最近邻推荐算法,根据该用户相似度最近的k位用户，进行推荐\n",
    "def kNearestNeighborsRecommendations(rawData, userSimDict, user, k=3):\n",
    "    # 找出最近的k个用户\n",
    "    kNearestUsers = sc.parallelize(userSimDict[user][:k])\n",
    "    # 收集用户看过的电影，用于推荐时过滤\n",
    "    userItems = rawData[user].keys()\n",
    "    # 根据其他用户的相似度和其相应评分，算出该用户对其它项的评分预测,结构为[(film1,rate1),(film2,rate2),……],并根据rate进行排序\n",
    "    return kNearestUsers.flatMap(\n",
    "        lambda (user, sim): [(film, rate * sim) for (film, rate) in rawData[user].items()]).filter(\n",
    "        lambda t: t[0] not in userItems).groupByKey().map(\n",
    "        lambda (film, rates): (film, sum(rates) / len(rates))).sortBy(lambda t: t[1], False).collect()\n",
    "\n",
    "\n",
    "recommededFilms = kNearestNeighborsRecommendations(rawData, userSimDict, \"user1\")\n",
    "expectedData = [('film0', 3.1520882319155654), ('film2', 2.929121763840444), ('film8', 2.178671228726628)]\n",
    "print(\"recommededFilms == expectedData should be True,Result: \", recommededFilms == expectedData)\n"
   ]
  },
  {
   "cell_type": "code",
   "execution_count": 9,
   "metadata": {},
   "outputs": [
    {
     "name": "stdout",
     "output_type": "stream",
     "text": [
      "[(u'2447', 5.0), (u'267', 5.0), (u'4369', 5.0), (u'3996', 4.970286702248604), (u'4235', 4.970286702248604), (u'162', 4.970286702248604), (u'1884', 4.970286702248604), (u'56174', 4.5), (u'54775', 4.5), (u'55282', 4.5), (u'5401', 4.5), (u'54272', 4.5), (u'1278', 4.482064057535127), (u'3755', 4.0), (u'47200', 4.0), (u'2808', 4.0), (u'59103', 4.0), (u'49651', 4.0), (u'1220', 3.99384141282165), (u'2193', 3.99384141282165), (u'1197', 3.99384141282165), (u'2100', 3.99384141282165), (u'2407', 3.99384141282165), (u'2301', 3.99384141282165), (u'2374', 3.99384141282165), (u'2000', 3.99384141282165), (u'2406', 3.99384141282165), (u'2245', 3.99384141282165), (u'2161', 3.99384141282165), (u'2145', 3.99384141282165), (u'2144', 3.99384141282165), (u'2143', 3.99384141282165), (u'2375', 3.99384141282165), (u'2371', 3.99384141282165), (u'2140', 3.9850353873102664), (u'2739', 3.9762293617988833), (u'5528', 3.9762293617988833), (u'6242', 3.9762293617988833), (u'1172', 3.9762293617988833), (u'613', 3.9762293617988833), (u'5679', 3.9762293617988833), (u'5464', 3.9762293617988833), (u'4728', 3.5), (u'7022', 3.5), (u'519', 3.5), (u'2696', 3.5), (u'1968', 3.4880067170854065), (u'1967', 2.9953810596162374), (u'2134', 2.9953810596162374), (u'2141', 2.9953810596162374), (u'5015', 2.9821720213491627), (u'236', 2.9821720213491627), (u'5377', 2.9821720213491627), (u'5577', 2.9821720213491627), (u'6319', 2.9821720213491627), (u'3955', 2.5), (u'1394', 1.996920706410825), (u'4388', 1.9881146808994417), (u'5299', 1.9881146808994417), (u'4745', 1.9881146808994417), (u'2036', 1.9881146808994417), (u'203', 1.9881146808994417), (u'2572', 1.9881146808994417), (u'5810', 1.9881146808994417), (u'58146', 1.0), (u'2005', 0.9984603532054125), (u'55276', 0.5)]\n"
     ]
    }
   ],
   "source": [
    "if __name__ == '__main__':\n",
    "    # TODO 下面我们通过真实的数据来测试我们的算法\n",
    "    fileData = sc.textFile(\"file:///root/notebook/data/ratings.dat\").map(lambda line: line.split(\"::\"))\n",
    "\n",
    "    # 格式化数据，数据格式是user_id::电影::评分::时间.解析成{\"user1\":[(\"film1\",xx),(\"film2\":xx)……],\"user2:[(\"film1\",xx),(\"film2\":xx)……],……}的形式\n",
    "    rawData = fileData.map(\n",
    "        lambda words: (words[0], (words[1], float(words[2])))).groupByKey().mapValues(list).collect()\n",
    "    rawData = {user: {f:s for (f,s) in filmRatings} for (user, filmRatings) in rawData}\n",
    "\n",
    "    # 生成(user,film,rate)数组列表项\n",
    "    data = fileData.map(lambda line: (line[0], line[1], line[2]))\n",
    "\n",
    "    \"\"\"\n",
    "        Step1:处理数据，获得稀疏item-user矩阵:\n",
    "        item_id -> ((user_1,rating),(user2,rating))\n",
    "    \"\"\"\n",
    "    itemPairs = getItemPairs(data)\n",
    "    \"\"\"\n",
    "        Step2: 获得2个用户所有的item-item对得分组合:\n",
    "        (user1_id,user2_id) -> [(rating1,rating2),\n",
    "                                (rating1,rating2),\n",
    "                                (rating1,rating2),\n",
    "                                ...]\n",
    "    \"\"\"\n",
    "\n",
    "    pairUsers = getPairUsers(itemPairs)\n",
    "    \"\"\"\n",
    "        Step3:计算余弦相似度:\n",
    "        (user1,user2) ->    (similarity)\n",
    "    \"\"\"\n",
    "    userCosSim = calCosSim(pairUsers)\n",
    "\n",
    "    # TODO 格式化数据，返回user_id1 -> [(user_id2,sim),(user_id3,sim)……]，其中数组部分按相似度sim进行排序\n",
    "    userSimDict = getUserSimPairs(userCosSim)\n",
    "    # TODO 实现最近邻推荐算法,根据该用户相似度最近的k位用户，进行推荐\n",
    "    recommededFilms = kNearestNeighborsRecommendations(rawData, userSimDict, rawData.keys()[0])\n",
    "    print(recommededFilms)\n"
   ]
  },
  {
   "cell_type": "code",
   "execution_count": null,
   "metadata": {},
   "outputs": [],
   "source": []
  }
 ],
 "metadata": {
  "kernelspec": {
   "display_name": "Python 2",
   "language": "python",
   "name": "python2"
  },
  "language_info": {
   "codemirror_mode": {
    "name": "ipython",
    "version": 2
   },
   "file_extension": ".py",
   "mimetype": "text/x-python",
   "name": "python",
   "nbconvert_exporter": "python",
   "pygments_lexer": "ipython2",
   "version": "2.7.14"
  }
 },
 "nbformat": 4,
 "nbformat_minor": 2
}
