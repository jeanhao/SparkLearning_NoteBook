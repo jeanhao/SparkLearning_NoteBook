{
 "cells": [
  {
   "cell_type": "code",
   "execution_count": 1,
   "metadata": {},
   "outputs": [
    {
     "name": "stdout",
     "output_type": "stream",
     "text": [
      "('init complete\\xef\\xbc\\x9asc = ', <SparkContext master=local appName=CF>)\n"
     ]
    }
   ],
   "source": [
    "from pyspark import SparkContext, SparkConf # 导入相关工具包\n",
    "\n",
    "# 初始化Spark上下文\n",
    "# local为本地调试模式，具体集群方式参照http://spark.apache.org/docs/latest/cluster-overview.html\n",
    "conf = SparkConf().setAppName(\"CF\").setMaster(\"local\") \n",
    "sc = SparkContext(conf=conf)\n",
    "print (\"init complete：sc = \", sc)"
   ]
  },
  {
   "cell_type": "code",
   "execution_count": 11,
   "metadata": {},
   "outputs": [
    {
     "name": "stdout",
     "output_type": "stream",
     "text": [
      "data.count() = 10000\n",
      "training.count()=5932,validation.count()=2001,test.count()=2067\n"
     ]
    }
   ],
   "source": [
    "# 导入数据，数据格式为：user_id::movies_id::rating::time\n",
    "fileData = sc.textFile(\"file:///root/notebook/data/ratings.dat\").map(lambda line: line.split(\"::\"))\n",
    "print(\"data.count() = %d\" % fileData.count())\n",
    "\n",
    "# 数据预处理，根据评论时间戳最后一位把整个数据集分成训练集(60%), 交叉验证集(20%), 和评估集(20%)\n",
    "data = fileData.map(lambda fields: (long(fields[3]) % 10, (int(fields[0]), int(fields[1]), float(fields[2]))))\n",
    "training = data.filter(lambda x: x[0] < 6).values()\n",
    "validation = data.filter(lambda x: x[0] >= 6 and x[0] < 8).values()\n",
    "test = data.filter(lambda x: x[0] >= 8).values()\n",
    "\n",
    "print(\"training.count() = %d,validation.count() = %d,test.count() = %d\" % (\n",
    "    training.count(), validation.count(), test.count()))"
   ]
  },
  {
   "cell_type": "code",
   "execution_count": 14,
   "metadata": {},
   "outputs": [
    {
     "name": "stdout",
     "output_type": "stream",
     "text": [
      "(8, 1.0, 10)\n",
      "(8, 1.0, 20)\n",
      "(8, 10.0, 10)\n",
      "(8, 10.0, 20)\n",
      "(12, 1.0, 10)\n",
      "(12, 1.0, 20)\n",
      "(12, 10.0, 10)\n",
      "(12, 10.0, 20)\n"
     ]
    }
   ],
   "source": [
    "ranks = [8, 12]\n",
    "lambdas = [1.0, 10.0]\n",
    "numIters = [10, 20]\n",
    "bestModel = None\n",
    "bestValidationRmse = float(\"inf\")\n",
    "bestRank = 0\n",
    "bestLambda = -1.0\n",
    "bestNumIter = -1\n",
    "\n",
    "import itertools\n",
    "for rank, lmbda, numIter in itertools.product(ranks, lambdas, numIters):\n",
    "    print(rank, lmbda, numIter)"
   ]
  },
  {
   "cell_type": "code",
   "execution_count": null,
   "metadata": {},
   "outputs": [],
   "source": []
  }
 ],
 "metadata": {
  "kernelspec": {
   "display_name": "Python 2",
   "language": "python",
   "name": "python2"
  },
  "language_info": {
   "codemirror_mode": {
    "name": "ipython",
    "version": 2
   },
   "file_extension": ".py",
   "mimetype": "text/x-python",
   "name": "python",
   "nbconvert_exporter": "python",
   "pygments_lexer": "ipython2",
   "version": "2.7.14"
  }
 },
 "nbformat": 4,
 "nbformat_minor": 2
}
