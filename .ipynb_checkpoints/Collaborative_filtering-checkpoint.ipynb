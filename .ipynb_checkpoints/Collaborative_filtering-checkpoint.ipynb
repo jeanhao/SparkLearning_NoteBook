{
 "cells": [
  {
   "attachments": {},
   "cell_type": "markdown",
   "metadata": {},
   "source": [
    "# 协同过滤算法(Collaborative Filtering)\n",
    "1. Memory-based Collaborative Filtering\n",
    "    - User Base\n",
    "    - Item Base\n",
    "\n",
    "> 余弦相似度计算\n",
    "\n",
    "2. Model-Based Collaborative Filtering\n",
    "    - ALS（交替最小二乘法）\n",
    "\n",
    "## 算法实现\n",
    "- 下面我们依次尝试实现基于用户、基于项的协同过滤算法。"
   ]
  },
  {
   "cell_type": "code",
   "execution_count": 3,
   "metadata": {},
   "outputs": [
    {
     "name": "stdout",
     "output_type": "stream",
     "text": [
      "('init complete\\xef\\xbc\\x9asc = ', <SparkContext master=local appName=CF>)\n"
     ]
    }
   ],
   "source": [
    "from pyspark import SparkContext, SparkConf # 导入相关工具包\n",
    "\n",
    "# 初始化Spark上下文\n",
    "# local为本地调试模式，具体集群方式参照http://spark.apache.org/docs/latest/cluster-overview.html\n",
    "conf = SparkConf().setAppName(\"CF\").setMaster(\"local\") \n",
    "sc = SparkContext(conf=conf)\n",
    "print (\"init complete：sc = \", sc)"
   ]
  },
  {
   "cell_type": "code",
   "execution_count": 19,
   "metadata": {},
   "outputs": [
    {
     "name": "stdout",
     "output_type": "stream",
     "text": [
      "[('user4', 'film9', 5), ('user4', 'film3', 2), ('user4', 'film2', 4), ('user4', 'film0', 3), ('user4', 'film5', 3), ('user4', 'film4', 5), ('user2', 'film8', 3), ('user2', 'film2', 3), ('user2', 'film1', 5), ('user2', 'film0', 4), ('user2', 'film6', 4), ('user2', 'film4', 2), ('user3', 'film9', 4), ('user3', 'film8', 2), ('user3', 'film3', 5), ('user3', 'film2', 3), ('user3', 'film0', 4), ('user3', 'film4', 4), ('user0', 'film9', 2), ('user0', 'film8', 2), ('user0', 'film3', 4), ('user0', 'film1', 1), ('user0', 'film0', 2), ('user0', 'film7', 5), ('user1', 'film9', 4), ('user1', 'film3', 5), ('user1', 'film1', 3), ('user1', 'film7', 2), ('user1', 'film6', 3), ('user1', 'film4', 2)]\n",
      "ParallelCollectionRDD[7] at parallelize at PythonRDD.scala:489\n"
     ]
    }
   ],
   "source": [
    "# 随机初始化测试数据\n",
    "# import random\n",
    "# data = {\"user%d\"%i:{\"film%d\"%j :random.randint(1,5) for j in random.sample(range(10),6)} for i in range(5)}\n",
    "data = {'user4': {'film9': 5, 'film3': 2, 'film2': 4, 'film0': 3, 'film5': 3, 'film4': 5},\n",
    "        'user2': {'film8': 3, 'film2': 3, 'film1': 5, 'film0': 4, 'film6': 4, 'film4': 2},\n",
    "        'user3': {'film9': 4, 'film8': 2, 'film3': 5, 'film2': 3, 'film0': 4, 'film4': 4},\n",
    "        'user0': {'film9': 2, 'film8': 2, 'film3': 4, 'film1': 1, 'film0': 2, 'film7': 5},\n",
    "        'user1': {'film9': 4, 'film3': 5, 'film1': 3, 'film7': 2, 'film6': 3, 'film4': 2}}\n",
    "# 模拟实际数据，生成(user,film,rate)数组列表项\n",
    "data = [(user, film, rate) for (user, filmRatings) in data.items() for (film, rate) in filmRatings.items()]\n",
    "print data\n",
    "data = sc.parallelize(data)\n",
    "print data"
   ]
  },
  {
   "cell_type": "markdown",
   "metadata": {},
   "source": [
    "## 计算不同用户的余弦相似度\n",
    "具体地，我们切分为以下步骤："
   ]
  },
  {
   "cell_type": "code",
   "execution_count": 25,
   "metadata": {},
   "outputs": [
    {
     "name": "stdout",
     "output_type": "stream",
     "text": [
      "('itemPairs == expectedData should be True,Result: ', True)\n"
     ]
    }
   ],
   "source": [
    "def getItemPairs(rddData):\n",
    "    \"\"\"\n",
    "        Step1:处理数据，获得稀疏item-user矩阵:\n",
    "        item_id -> ((user_1,rating),(user2,rating))\n",
    "    \"\"\"\n",
    "    #TODO Write your code here\n",
    "    return rddData.map(lambda t: (t[1], (t[0], t[2]))).groupByKey()\n",
    "    pass\n",
    "\n",
    "itemPairs = getItemPairs(data)\n",
    "expectedData = [('film9', [('user4', 5), ('user3', 4), ('user0', 2), ('user1', 4)]),\n",
    "                ('film8', [('user2', 3), ('user3', 2), ('user0', 2)]),\n",
    "                ('film3', [('user4', 2), ('user3', 5), ('user0', 4), ('user1', 5)]),\n",
    "                ('film2', [('user4', 4), ('user2', 3), ('user3', 3)]),\n",
    "                ('film1', [('user2', 5), ('user0', 1), ('user1', 3)]),\n",
    "                ('film0', [('user4', 3), ('user2', 4), ('user3', 4), ('user0', 2)]),\n",
    "                ('film7', [('user0', 5), ('user1', 2)]), ('film6', [('user2', 4), ('user1', 3)]),\n",
    "                ('film5', [('user4', 3)]), ('film4', [('user4', 5), ('user2', 2), ('user3', 4), ('user1', 2)])]\n",
    "print(\"itemPairs == expectedData should be True,Result: \", itemPairs.mapValues(list).collect() == expectedData)\n"
   ]
  },
  {
   "cell_type": "code",
   "execution_count": 26,
   "metadata": {},
   "outputs": [
    {
     "name": "stdout",
     "output_type": "stream",
     "text": [
      "('pairUsers == expectedData should be True,Result: ', True)\n"
     ]
    }
   ],
   "source": [
    "def getPairUsers(itemPairs):\n",
    "    \"\"\"\n",
    "        Step2: 获得2个用户所有的item-item对得分组合:\n",
    "        (user1_id,user2_id) -> [(rating1,rating2),\n",
    "                                (rating1,rating2),\n",
    "                                (rating1,rating2),\n",
    "                                ...]\n",
    "    \"\"\"\n",
    "    from itertools import combinations\n",
    "    \"\"\"\n",
    "        对每个item，找到共同打分的user对，即找出所有两两组合\n",
    "        tips：使用itertools的combinations 找两两组合\n",
    "    \"\"\"\n",
    "    return itemPairs.flatMap(\n",
    "        lambda (_, userRatings): [\n",
    "            ((user1[0], user2[0]), (user1[1], user2[1])) for user1, user2 in\n",
    "            combinations(userRatings, 2)\n",
    "        ]\n",
    "    ).groupByKey()\n",
    "\n",
    "\n",
    "pairUsers = getPairUsers(itemPairs)\n",
    "expectedData = [(('user4', 'user1'), [(5, 4), (2, 5), (5, 2)]), (('user2', 'user1'), [(5, 3), (4, 3), (2, 2)]),\n",
    "                (('user4', 'user0'), [(5, 2), (2, 4), (3, 2)]), (('user0', 'user1'), [(2, 4), (4, 5), (1, 3), (5, 2)]),\n",
    "                (('user2', 'user0'), [(3, 2), (5, 1), (4, 2)]), (('user3', 'user0'), [(4, 2), (2, 2), (5, 4), (4, 2)]),\n",
    "                (('user3', 'user1'), [(4, 4), (5, 5), (4, 2)]), (('user2', 'user3'), [(3, 2), (3, 3), (4, 4), (2, 4)]),\n",
    "                (('user4', 'user3'), [(5, 4), (2, 5), (4, 3), (3, 4), (5, 4)]),\n",
    "                (('user4', 'user2'), [(4, 3), (3, 4), (5, 2)])]\n",
    "\n",
    "print(\"pairUsers == expectedData should be True,Result: \", pairUsers.mapValues(list).collect() == expectedData)\n"
   ]
  },
  {
   "cell_type": "code",
   "execution_count": 27,
   "metadata": {},
   "outputs": [
    {
     "name": "stdout",
     "output_type": "stream",
     "text": [
      "('userCosSim == expectedData should be True,Result: ', True)\n"
     ]
    }
   ],
   "source": [
    "# TODO 在下面计算不同用户的余弦相似度\n",
    "def calCosSim(pairUsers):\n",
    "    \"\"\"\n",
    "        Step3:计算余弦相似度:\n",
    "        (user1,user2) ->    (similarity)\n",
    "    \"\"\"\n",
    "    import numpy as np\n",
    "    def calCosSimPerUser(pairUser):\n",
    "        \"\"\"\n",
    "            对每个user对，根据打分计算余弦距离\n",
    "        \"\"\"\n",
    "        pairUser, pairRatings = pairUser\n",
    "        sum_xx, sum_xy, sum_yy = 0.0, 0.0, 0.0\n",
    "        for pairRating in pairRatings:\n",
    "            sum_xx += np.float(pairRating[0]) * np.float(pairRating[0])\n",
    "            sum_yy += np.float(pairRating[1]) * np.float(pairRating[1])\n",
    "            sum_xy += np.float(pairRating[0]) * np.float(pairRating[1])\n",
    "        denominator = np.sqrt(sum_xx) * np.sqrt(sum_yy)\n",
    "        cosSim = sum_xy / (float(denominator)) if denominator else 0.0\n",
    "        return pairUser, cosSim\n",
    "\n",
    "    return pairUsers.map(calCosSimPerUser)\n",
    "\n",
    "\n",
    "userCosSim = calCosSim(pairUsers)\n",
    "expectedData = [(('user4', 'user1'), 0.8114408259335794), (('user2', 'user1'), 0.9852446755537787),\n",
    "                (('user4', 'user0'), 0.7947194142390264), (('user0', 'user1'), 0.8226366627527562),\n",
    "                (('user2', 'user0'), 0.8956685895029601), (('user3', 'user0'), 0.9678678369916546),\n",
    "                (('user3', 'user1'), 0.9675031670065175), (('user2', 'user3'), 0.9431191251430152),\n",
    "                (('user4', 'user3'), 0.9194142866202886), (('user4', 'user2'), 0.8928837434461133)]\n",
    "\n",
    "print(\"userCosSim == expectedData should be True,Result: \", userCosSim.collect() == expectedData)\n"
   ]
  },
  {
   "cell_type": "code",
   "execution_count": null,
   "metadata": {},
   "outputs": [],
   "source": []
  },
  {
   "cell_type": "code",
   "execution_count": null,
   "metadata": {},
   "outputs": [],
   "source": []
  },
  {
   "cell_type": "code",
   "execution_count": null,
   "metadata": {},
   "outputs": [],
   "source": []
  }
 ],
 "metadata": {
  "kernelspec": {
   "display_name": "Python 2",
   "language": "python",
   "name": "python2"
  },
  "language_info": {
   "codemirror_mode": {
    "name": "ipython",
    "version": 2
   },
   "file_extension": ".py",
   "mimetype": "text/x-python",
   "name": "python",
   "nbconvert_exporter": "python",
   "pygments_lexer": "ipython2",
   "version": "2.7.14"
  }
 },
 "nbformat": 4,
 "nbformat_minor": 2
}
